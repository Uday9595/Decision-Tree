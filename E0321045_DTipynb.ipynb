{
  "nbformat": 4,
  "nbformat_minor": 0,
  "metadata": {
    "colab": {
      "provenance": []
    },
    "kernelspec": {
      "name": "python3",
      "display_name": "Python 3"
    },
    "language_info": {
      "name": "python"
    }
  },
  "cells": [
    {
      "cell_type": "code",
      "execution_count": 1,
      "metadata": {
        "id": "NwHA_aixURNe"
      },
      "outputs": [],
      "source": [
        "import pandas as pd\n",
        "from sklearn.model_selection import train_test_split\n",
        "from sklearn.tree import DecisionTreeRegressor\n",
        "from sklearn.metrics import mean_squared_error, r2_score\n",
        "import numpy as np"
      ]
    },
    {
      "cell_type": "code",
      "source": [
        "data = pd.read_csv('/content/Bank_Stock_Price_10Y.csv')"
      ],
      "metadata": {
        "id": "OORLDdw1VnRV"
      },
      "execution_count": 2,
      "outputs": []
    },
    {
      "cell_type": "code",
      "source": [
        "data['Date'] = pd.to_datetime(data['Date']).astype(int)/10**9"
      ],
      "metadata": {
        "id": "7ctXJViSVqgX"
      },
      "execution_count": 3,
      "outputs": []
    },
    {
      "cell_type": "code",
      "source": [
        "X = data.drop(['Close'], axis=1)\n",
        "y = data['Close']"
      ],
      "metadata": {
        "id": "P43AQkWuVznp"
      },
      "execution_count": 4,
      "outputs": []
    },
    {
      "cell_type": "code",
      "source": [
        "num_models = 10\n",
        "num_rows_per_model = 50"
      ],
      "metadata": {
        "id": "jbEkyfrVV1WW"
      },
      "execution_count": 5,
      "outputs": []
    },
    {
      "cell_type": "code",
      "source": [
        "model_params = []\n",
        "model_accuracies = []\n",
        "model_metrics = []"
      ],
      "metadata": {
        "id": "yLfJ1ZrIV3HX"
      },
      "execution_count": 6,
      "outputs": []
    },
    {
      "cell_type": "code",
      "source": [
        "for i in range(num_models):\n",
        "    random_rows = np.random.choice(len(X), num_rows_per_model, replace=True)\n",
        "    X_train, X_test, y_train, y_test = train_test_split(X.iloc[random_rows], y.iloc[random_rows], test_size=0.2, random_state=i)\n",
        "    model = DecisionTreeRegressor(random_state=i)\n",
        "    model.fit(X_train, y_train)\n",
        "    y_pred = model.predict(X_test)\n",
        "    accuracy = r2_score(y_test, y_pred)\n",
        "    mse = mean_squared_error(y_test, y_pred)\n",
        "    model_params.append(model.get_params())\n",
        "    model_accuracies.append(accuracy)\n",
        "    model_metrics.append({'MSE': mse})\n",
        "    print(f'Model {i+1}:')\n",
        "    print(f'Accuracy: {accuracy}')\n",
        "    print(f'MSE: {mse}')\n",
        "    print('-----------------------')"
      ],
      "metadata": {
        "colab": {
          "base_uri": "https://localhost:8080/"
        },
        "id": "NTC_hLZOV55y",
        "outputId": "249cbfe7-7d0f-4733-fe10-6709e0a9ef50"
      },
      "execution_count": 7,
      "outputs": [
        {
          "output_type": "stream",
          "name": "stdout",
          "text": [
            "Model 1:\n",
            "Accuracy: 0.9970667579389508\n",
            "MSE: 16435.0\n",
            "-----------------------\n",
            "Model 2:\n",
            "Accuracy: 0.995236291161545\n",
            "MSE: 30190.0\n",
            "-----------------------\n",
            "Model 3:\n",
            "Accuracy: 0.9953485475649139\n",
            "MSE: 13725.0\n",
            "-----------------------\n",
            "Model 4:\n",
            "Accuracy: 0.9919299119208863\n",
            "MSE: 34585.0\n",
            "-----------------------\n",
            "Model 5:\n",
            "Accuracy: 0.9908480287411363\n",
            "MSE: 37335.0\n",
            "-----------------------\n",
            "Model 6:\n",
            "Accuracy: 0.9090041190671079\n",
            "MSE: 289375.0\n",
            "-----------------------\n",
            "Model 7:\n",
            "Accuracy: 0.9821698031491403\n",
            "MSE: 94895.0\n",
            "-----------------------\n",
            "Model 8:\n",
            "Accuracy: 0.996291507853127\n",
            "MSE: 18842.5\n",
            "-----------------------\n",
            "Model 9:\n",
            "Accuracy: 0.9966726919110763\n",
            "MSE: 15120.0\n",
            "-----------------------\n",
            "Model 10:\n",
            "Accuracy: 0.9752796891145804\n",
            "MSE: 78682.5\n",
            "-----------------------\n"
          ]
        }
      ]
    },
    {
      "cell_type": "code",
      "source": [],
      "metadata": {
        "id": "HIxI0C_gWKks"
      },
      "execution_count": null,
      "outputs": []
    }
  ]
}